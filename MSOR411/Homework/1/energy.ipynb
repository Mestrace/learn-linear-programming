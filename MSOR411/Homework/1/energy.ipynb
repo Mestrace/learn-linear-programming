{
 "cells": [
  {
   "cell_type": "code",
   "execution_count": 41,
   "metadata": {},
   "outputs": [],
   "source": [
    "import numpy as np\n",
    "import cvxpy as cp"
   ]
  },
  {
   "cell_type": "code",
   "execution_count": 45,
   "metadata": {},
   "outputs": [],
   "source": [
    "# The amount of energy output of\n",
    "# coal, natural gas, nuclear, hydroelectric, petroleum\n",
    "# MW-hr\n",
    "energy_output = cp.Variable(5, integer=True)\n",
    "\n",
    "# Unit cost of generation\n",
    "# dollor / MW-hr\n",
    "unit_cost = np.array([6.0, 5.5, 4.5, 5.0, 7.0])\n",
    "\n",
    "total_capacity = np.array([45000, 15000, 45000, 24000, 48000])\n",
    "\n",
    "# Rates of Pollutant Emissions\n",
    "# g / MW-hr\n",
    "pollutant_emissions = np.array([\n",
    "    [1.5, 1.2, 0.7, 0.4],\n",
    "    [0.2, 0.5, 0, 0],\n",
    "    [0.5, 0.2, 0.4, 0.5],\n",
    "    [0, 0, 0, 0],\n",
    "    [0.4, 0.8, 0.5, 0.1]\n",
    "]).T\n",
    "\n",
    "# Alowable Pollution\n",
    "# g\n",
    "limits_on_pollutant_emissions = np.array([75000, 60000, 30000, 25000])"
   ]
  },
  {
   "cell_type": "code",
   "execution_count": 67,
   "metadata": {},
   "outputs": [],
   "source": [
    "objective_function = cp.Minimize(unit_cost.T @ energy_output)\n",
    "\n",
    "# resource1 = energy_output >= 0\n",
    "resource2 = energy_output >= np.array([36000, 0, 0, 0, 0])\n",
    "resource3 = energy_output <= total_capacity\n",
    "\n",
    "\n",
    "# regulation 1: nuclear material energy should not exceed 20% of total energy\n",
    "# E_nuclear <= 0.2 * sum(E)\n",
    "regulation1 = np.array([-0.2, -0.2, 0.8, -0.2, -0.2]) @ energy_output <= 0 \n",
    "\n",
    "# regulation 2: at least 80% capacity of coal plant is used\n",
    "# E_coal >= 0.8 * coal\n",
    "regulation2 = np.array([1.25, 0, 0, 0, 0]) @ energy_output >= total_capacity[0]\n",
    "\n",
    "# regulation 3: energy from natural gas should be at least 30% or more on that from petroleum\n",
    "# E_gas >= 0.3 * E_petro\n",
    "regulation3 = np.array([0, 1, 0,0, -0.3]) @ energy_output >= 0\n",
    "\n",
    "# regulation 4: the pollutant produced must meet regulations\n",
    "# \n",
    "regulation4 = pollutant_emissions @ energy_output <= limits_on_pollutant_emissions\n",
    "\n",
    "# need 1: A total of 100000MW\n",
    "need1 = sum(energy_output) >= 125000"
   ]
  },
  {
   "cell_type": "code",
   "execution_count": 68,
   "metadata": {
    "scrolled": true
   },
   "outputs": [],
   "source": [
    "constraints = [\n",
    "    regulation1,\n",
    "    regulation2,\n",
    "    regulation3,\n",
    "    regulation4,\n",
    "    need1,\n",
    "    resource2,\n",
    "    resource3\n",
    "]\n",
    "\n",
    "prob = cp.Problem(objective_function, constraints)"
   ]
  },
  {
   "cell_type": "code",
   "execution_count": 69,
   "metadata": {
    "scrolled": true
   },
   "outputs": [
    {
     "data": {
      "text/plain": [
       "inf"
      ]
     },
     "execution_count": 69,
     "metadata": {},
     "output_type": "execute_result"
    }
   ],
   "source": [
    "prob.solve()"
   ]
  },
  {
   "cell_type": "code",
   "execution_count": 70,
   "metadata": {},
   "outputs": [],
   "source": [
    "energy_output.value"
   ]
  },
  {
   "cell_type": "code",
   "execution_count": null,
   "metadata": {},
   "outputs": [],
   "source": []
  }
 ],
 "metadata": {
  "kernelspec": {
   "display_name": "Python 3",
   "language": "python",
   "name": "python3"
  },
  "language_info": {
   "codemirror_mode": {
    "name": "ipython",
    "version": 3
   },
   "file_extension": ".py",
   "mimetype": "text/x-python",
   "name": "python",
   "nbconvert_exporter": "python",
   "pygments_lexer": "ipython3",
   "version": "3.6.8"
  }
 },
 "nbformat": 4,
 "nbformat_minor": 2
}
