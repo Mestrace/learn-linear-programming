{
 "cells": [
  {
   "cell_type": "code",
   "execution_count": 49,
   "metadata": {},
   "outputs": [],
   "source": [
    "import numpy as np"
   ]
  },
  {
   "cell_type": "code",
   "execution_count": 50,
   "metadata": {},
   "outputs": [],
   "source": [
    "# specify the matrix\n",
    "import itertools\n",
    "lst = list(itertools.product([0, 1], repeat=3))"
   ]
  },
  {
   "cell_type": "code",
   "execution_count": 51,
   "metadata": {},
   "outputs": [
    {
     "data": {
      "text/plain": [
       "[(0, 0, 0),\n",
       " (0, 0, 1),\n",
       " (0, 1, 0),\n",
       " (0, 1, 1),\n",
       " (1, 0, 0),\n",
       " (1, 0, 1),\n",
       " (1, 1, 0),\n",
       " (1, 1, 1)]"
      ]
     },
     "execution_count": 51,
     "metadata": {},
     "output_type": "execute_result"
    }
   ],
   "source": [
    "lst"
   ]
  },
  {
   "cell_type": "code",
   "execution_count": 52,
   "metadata": {},
   "outputs": [],
   "source": [
    "# rules = [\n",
    "#     # no more than two of the three plants should be opened\n",
    "#     lambda p1,p2,p3: p1+p2+p3 <= 2,\n",
    "#     # True if (either p2 or p3) and p1\n",
    "#     lambda p1,p2,p3: True if (p2 or p3) and p1 else False,\n",
    "#     # True if (p1 or not p3) and p2\n",
    "#     lambda p1,p2,p3: True if (p1 or not p3) and p2 else False,\n",
    "# ]\n",
    "def rule2(p1, p2, p3):\n",
    "    if not (p2 and p3):\n",
    "        if p1:\n",
    "            return False\n",
    "        else:\n",
    "            return True\n",
    "    else:\n",
    "        return True\n",
    "\n",
    "def rule3(p1, p2, p3):\n",
    "    if p1 and p2:\n",
    "        return True        \n",
    "    elif not p3 and p2:\n",
    "        return True\n",
    "    elif p1:\n",
    "        return False\n",
    "    elif not p3:\n",
    "        return False\n",
    "    else:\n",
    "        return True   \n",
    "    \n",
    "rules = [\n",
    "    # no more than two of the three plants should be opened\n",
    "    lambda p1,p2,p3: p1+p2+p3 <= 2,\n",
    "    # True if (either p2 or p3) and p1\n",
    "    rule2,\n",
    "    # True if (p1 or not p3) and p2\n",
    "    rule3\n",
    "]"
   ]
  },
  {
   "cell_type": "code",
   "execution_count": 53,
   "metadata": {},
   "outputs": [],
   "source": [
    "check_all_rules = lambda P: all([r(*P) for r in rules])"
   ]
  },
  {
   "cell_type": "code",
   "execution_count": 54,
   "metadata": {},
   "outputs": [
    {
     "data": {
      "text/plain": [
       "[False, True, True, True, False, False, False, False]"
      ]
     },
     "execution_count": 54,
     "metadata": {},
     "output_type": "execute_result"
    }
   ],
   "source": [
    "list(map(check_all_rules, lst))"
   ]
  },
  {
   "cell_type": "code",
   "execution_count": 55,
   "metadata": {},
   "outputs": [
    {
     "data": {
      "text/plain": [
       "[True, True, True, True, True, True, True, False]"
      ]
     },
     "execution_count": 55,
     "metadata": {},
     "output_type": "execute_result"
    }
   ],
   "source": [
    "list(map(lambda P : rules[0](*P), lst))"
   ]
  },
  {
   "cell_type": "code",
   "execution_count": 56,
   "metadata": {
    "scrolled": true
   },
   "outputs": [
    {
     "data": {
      "text/plain": [
       "[True, True, True, True, False, False, False, True]"
      ]
     },
     "execution_count": 56,
     "metadata": {},
     "output_type": "execute_result"
    }
   ],
   "source": [
    "list(map(lambda P : rules[1](*P), lst))"
   ]
  },
  {
   "cell_type": "code",
   "execution_count": 57,
   "metadata": {},
   "outputs": [
    {
     "data": {
      "text/plain": [
       "[False, True, True, True, False, False, True, True]"
      ]
     },
     "execution_count": 57,
     "metadata": {},
     "output_type": "execute_result"
    }
   ],
   "source": [
    "list(map(lambda P : rules[2](*P), lst))"
   ]
  },
  {
   "cell_type": "code",
   "execution_count": 58,
   "metadata": {},
   "outputs": [],
   "source": [
    "# make matrix\n",
    "\n",
    "A = np.asarray(lst, dtype=int)\n",
    "b = np.asarray(list(map(check_all_rules, lst)), dtype=int)"
   ]
  },
  {
   "cell_type": "markdown",
   "metadata": {},
   "source": [
    "$-P_1 - P_2 - P_3 \\geq 2$\n",
    "\n",
    "$P_1 \\geq P_2$ and $P_1 \\geq P_3$, which goes to $2P_1 \\geq P_2 + P_3$, which goes to $2P_1 - P_2 - P_3 \\geq 0$\n",
    "\n",
    "$P_1 + P_2 \\geq 2$ or $P_1 + P_2 \\leq 0$ or $P_3 + P_2 \\leq 1$\n",
    "\n",
    "\n",
    "(1)  + (2) -> $P_1 - 2P_2 - 2P_3 \\geq 2$"
   ]
  },
  {
   "cell_type": "code",
   "execution_count": null,
   "metadata": {},
   "outputs": [],
   "source": []
  },
  {
   "cell_type": "code",
   "execution_count": 65,
   "metadata": {},
   "outputs": [],
   "source": [
    "def rule3_1(p1, p2, p3):\n",
    "    if p1 and p2:\n",
    "        return True\n",
    "    elif not p1 and p2:\n",
    "        return False\n",
    "    else:\n",
    "        return True\n",
    "\n",
    "def rule3_2(p1, p2, p3):\n",
    "    if not p3 and p2:\n",
    "        return True\n",
    "    if p3 and p2:\n",
    "        return False\n",
    "    else:\n",
    "        return True\n",
    "\n",
    "rule3 = lambda P: rule3_1(*P) or rule3_2(*P)"
   ]
  },
  {
   "cell_type": "code",
   "execution_count": 66,
   "metadata": {},
   "outputs": [
    {
     "data": {
      "text/plain": [
       "[True, True, True, False, True, True, True, True]"
      ]
     },
     "execution_count": 66,
     "metadata": {},
     "output_type": "execute_result"
    }
   ],
   "source": [
    "list(map(rule3, lst))"
   ]
  },
  {
   "cell_type": "code",
   "execution_count": null,
   "metadata": {},
   "outputs": [],
   "source": []
  }
 ],
 "metadata": {
  "kernelspec": {
   "display_name": "Python 3",
   "language": "python",
   "name": "python3"
  },
  "language_info": {
   "codemirror_mode": {
    "name": "ipython",
    "version": 3
   },
   "file_extension": ".py",
   "mimetype": "text/x-python",
   "name": "python",
   "nbconvert_exporter": "python",
   "pygments_lexer": "ipython3",
   "version": "3.6.8"
  }
 },
 "nbformat": 4,
 "nbformat_minor": 2
}
